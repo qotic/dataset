{
  "nbformat": 4,
  "nbformat_minor": 0,
  "metadata": {
    "colab": {
      "name": "knn-soal4.ipynb",
      "provenance": [],
      "collapsed_sections": [],
      "authorship_tag": "ABX9TyNdBnO5I3D1MsNByOWiFET0",
      "include_colab_link": true
    },
    "kernelspec": {
      "name": "python3",
      "display_name": "Python 3"
    },
    "language_info": {
      "name": "python"
    }
  },
  "cells": [
    {
      "cell_type": "markdown",
      "metadata": {
        "id": "view-in-github",
        "colab_type": "text"
      },
      "source": [
        "<a href=\"https://colab.research.google.com/github/qotic/dataset/blob/main/knn_soal4.ipynb\" target=\"_parent\"><img src=\"https://colab.research.google.com/assets/colab-badge.svg\" alt=\"Open In Colab\"/></a>"
      ]
    },
    {
      "cell_type": "markdown",
      "source": [
        "**Supervised Learning: Klasifikasi K-Nearest Neighbors**\n",
        "Pertama, kita load dulu berbagai library yang diperlukan:\n",
        "\n",
        "Numpy\n",
        "Matplotlib untuk membuat grafik\n",
        "Pandas\n",
        "SKlearn\n",
        "Itertools"
      ],
      "metadata": {
        "id": "xG8ciKG_wNqR"
      }
    },
    {
      "cell_type": "code",
      "execution_count": 1,
      "metadata": {
        "id": "gxGISOB5wDez"
      },
      "outputs": [],
      "source": [
        "import itertools\n",
        "import numpy as np\n",
        "import matplotlib.pyplot as plt\n",
        "from matplotlib.ticker import NullFormatter\n",
        "import pandas as pd\n",
        "import numpy as np\n",
        "import matplotlib.ticker as ticker\n",
        "from sklearn import preprocessing\n",
        "%matplotlib inline"
      ]
    },
    {
      "cell_type": "markdown",
      "source": [
        "Dataset\n",
        "Unduh dari kumpulan dataset di laman https://raw.githubusercontent.com/qotic/dataset/main/soalregganda4.csv"
      ],
      "metadata": {
        "id": "xnScSrdtwX6y"
      }
    },
    {
      "cell_type": "code",
      "source": [
        "!wget -O soalregganda4.csv https://raw.githubusercontent.com/qotic/dataset/main/soalregganda4.csv"
      ],
      "metadata": {
        "colab": {
          "base_uri": "https://localhost:8080/"
        },
        "id": "gRDG9kHlwdVt",
        "outputId": "91fd2f7b-190d-4ca4-aa0f-904eb3867414"
      },
      "execution_count": 2,
      "outputs": [
        {
          "output_type": "stream",
          "name": "stdout",
          "text": [
            "--2022-04-21 06:47:58--  https://raw.githubusercontent.com/qotic/dataset/main/soalregganda4.csv\n",
            "Resolving raw.githubusercontent.com (raw.githubusercontent.com)... 185.199.108.133, 185.199.109.133, 185.199.110.133, ...\n",
            "Connecting to raw.githubusercontent.com (raw.githubusercontent.com)|185.199.108.133|:443... connected.\n",
            "HTTP request sent, awaiting response... 200 OK\n",
            "Length: 1092 (1.1K) [text/plain]\n",
            "Saving to: ‘soalregganda4.csv’\n",
            "\n",
            "\rsoalregganda4.csv     0%[                    ]       0  --.-KB/s               \rsoalregganda4.csv   100%[===================>]   1.07K  --.-KB/s    in 0s      \n",
            "\n",
            "2022-04-21 06:47:58 (58.9 MB/s) - ‘soalregganda4.csv’ saved [1092/1092]\n",
            "\n"
          ]
        }
      ]
    },
    {
      "cell_type": "markdown",
      "source": [
        "**Load Dataset**"
      ],
      "metadata": {
        "id": "UUqZ1pUEwgzr"
      }
    },
    {
      "cell_type": "code",
      "source": [
        "df = pd.read_csv('soalregganda4.csv')\n",
        "df.head()"
      ],
      "metadata": {
        "colab": {
          "base_uri": "https://localhost:8080/",
          "height": 206
        },
        "id": "vI8P2Di0wkUV",
        "outputId": "aebe1a83-67fd-41f5-ab89-cba4fefdbc44"
      },
      "execution_count": 3,
      "outputs": [
        {
          "output_type": "execute_result",
          "data": {
            "text/plain": [
              "   N       Y       X1  X2  X3      X4\n",
              "0  1   80250  1650000  10   1   80250\n",
              "1  2   86000  1600000   8   1   86000\n",
              "2  3  106000  2050000   8   1  106000\n",
              "3  4   70108  1200000   7   1   70108\n",
              "4  5  680400  1650000   4   2  170100"
            ],
            "text/html": [
              "\n",
              "  <div id=\"df-97ec076b-f41d-42e0-870f-2f87d690673c\">\n",
              "    <div class=\"colab-df-container\">\n",
              "      <div>\n",
              "<style scoped>\n",
              "    .dataframe tbody tr th:only-of-type {\n",
              "        vertical-align: middle;\n",
              "    }\n",
              "\n",
              "    .dataframe tbody tr th {\n",
              "        vertical-align: top;\n",
              "    }\n",
              "\n",
              "    .dataframe thead th {\n",
              "        text-align: right;\n",
              "    }\n",
              "</style>\n",
              "<table border=\"1\" class=\"dataframe\">\n",
              "  <thead>\n",
              "    <tr style=\"text-align: right;\">\n",
              "      <th></th>\n",
              "      <th>N</th>\n",
              "      <th>Y</th>\n",
              "      <th>X1</th>\n",
              "      <th>X2</th>\n",
              "      <th>X3</th>\n",
              "      <th>X4</th>\n",
              "    </tr>\n",
              "  </thead>\n",
              "  <tbody>\n",
              "    <tr>\n",
              "      <th>0</th>\n",
              "      <td>1</td>\n",
              "      <td>80250</td>\n",
              "      <td>1650000</td>\n",
              "      <td>10</td>\n",
              "      <td>1</td>\n",
              "      <td>80250</td>\n",
              "    </tr>\n",
              "    <tr>\n",
              "      <th>1</th>\n",
              "      <td>2</td>\n",
              "      <td>86000</td>\n",
              "      <td>1600000</td>\n",
              "      <td>8</td>\n",
              "      <td>1</td>\n",
              "      <td>86000</td>\n",
              "    </tr>\n",
              "    <tr>\n",
              "      <th>2</th>\n",
              "      <td>3</td>\n",
              "      <td>106000</td>\n",
              "      <td>2050000</td>\n",
              "      <td>8</td>\n",
              "      <td>1</td>\n",
              "      <td>106000</td>\n",
              "    </tr>\n",
              "    <tr>\n",
              "      <th>3</th>\n",
              "      <td>4</td>\n",
              "      <td>70108</td>\n",
              "      <td>1200000</td>\n",
              "      <td>7</td>\n",
              "      <td>1</td>\n",
              "      <td>70108</td>\n",
              "    </tr>\n",
              "    <tr>\n",
              "      <th>4</th>\n",
              "      <td>5</td>\n",
              "      <td>680400</td>\n",
              "      <td>1650000</td>\n",
              "      <td>4</td>\n",
              "      <td>2</td>\n",
              "      <td>170100</td>\n",
              "    </tr>\n",
              "  </tbody>\n",
              "</table>\n",
              "</div>\n",
              "      <button class=\"colab-df-convert\" onclick=\"convertToInteractive('df-97ec076b-f41d-42e0-870f-2f87d690673c')\"\n",
              "              title=\"Convert this dataframe to an interactive table.\"\n",
              "              style=\"display:none;\">\n",
              "        \n",
              "  <svg xmlns=\"http://www.w3.org/2000/svg\" height=\"24px\"viewBox=\"0 0 24 24\"\n",
              "       width=\"24px\">\n",
              "    <path d=\"M0 0h24v24H0V0z\" fill=\"none\"/>\n",
              "    <path d=\"M18.56 5.44l.94 2.06.94-2.06 2.06-.94-2.06-.94-.94-2.06-.94 2.06-2.06.94zm-11 1L8.5 8.5l.94-2.06 2.06-.94-2.06-.94L8.5 2.5l-.94 2.06-2.06.94zm10 10l.94 2.06.94-2.06 2.06-.94-2.06-.94-.94-2.06-.94 2.06-2.06.94z\"/><path d=\"M17.41 7.96l-1.37-1.37c-.4-.4-.92-.59-1.43-.59-.52 0-1.04.2-1.43.59L10.3 9.45l-7.72 7.72c-.78.78-.78 2.05 0 2.83L4 21.41c.39.39.9.59 1.41.59.51 0 1.02-.2 1.41-.59l7.78-7.78 2.81-2.81c.8-.78.8-2.07 0-2.86zM5.41 20L4 18.59l7.72-7.72 1.47 1.35L5.41 20z\"/>\n",
              "  </svg>\n",
              "      </button>\n",
              "      \n",
              "  <style>\n",
              "    .colab-df-container {\n",
              "      display:flex;\n",
              "      flex-wrap:wrap;\n",
              "      gap: 12px;\n",
              "    }\n",
              "\n",
              "    .colab-df-convert {\n",
              "      background-color: #E8F0FE;\n",
              "      border: none;\n",
              "      border-radius: 50%;\n",
              "      cursor: pointer;\n",
              "      display: none;\n",
              "      fill: #1967D2;\n",
              "      height: 32px;\n",
              "      padding: 0 0 0 0;\n",
              "      width: 32px;\n",
              "    }\n",
              "\n",
              "    .colab-df-convert:hover {\n",
              "      background-color: #E2EBFA;\n",
              "      box-shadow: 0px 1px 2px rgba(60, 64, 67, 0.3), 0px 1px 3px 1px rgba(60, 64, 67, 0.15);\n",
              "      fill: #174EA6;\n",
              "    }\n",
              "\n",
              "    [theme=dark] .colab-df-convert {\n",
              "      background-color: #3B4455;\n",
              "      fill: #D2E3FC;\n",
              "    }\n",
              "\n",
              "    [theme=dark] .colab-df-convert:hover {\n",
              "      background-color: #434B5C;\n",
              "      box-shadow: 0px 1px 3px 1px rgba(0, 0, 0, 0.15);\n",
              "      filter: drop-shadow(0px 1px 2px rgba(0, 0, 0, 0.3));\n",
              "      fill: #FFFFFF;\n",
              "    }\n",
              "  </style>\n",
              "\n",
              "      <script>\n",
              "        const buttonEl =\n",
              "          document.querySelector('#df-97ec076b-f41d-42e0-870f-2f87d690673c button.colab-df-convert');\n",
              "        buttonEl.style.display =\n",
              "          google.colab.kernel.accessAllowed ? 'block' : 'none';\n",
              "\n",
              "        async function convertToInteractive(key) {\n",
              "          const element = document.querySelector('#df-97ec076b-f41d-42e0-870f-2f87d690673c');\n",
              "          const dataTable =\n",
              "            await google.colab.kernel.invokeFunction('convertToInteractive',\n",
              "                                                     [key], {});\n",
              "          if (!dataTable) return;\n",
              "\n",
              "          const docLinkHtml = 'Like what you see? Visit the ' +\n",
              "            '<a target=\"_blank\" href=https://colab.research.google.com/notebooks/data_table.ipynb>data table notebook</a>'\n",
              "            + ' to learn more about interactive tables.';\n",
              "          element.innerHTML = '';\n",
              "          dataTable['output_type'] = 'display_data';\n",
              "          await google.colab.output.renderOutput(dataTable, element);\n",
              "          const docLink = document.createElement('div');\n",
              "          docLink.innerHTML = docLinkHtml;\n",
              "          element.appendChild(docLink);\n",
              "        }\n",
              "      </script>\n",
              "    </div>\n",
              "  </div>\n",
              "  "
            ]
          },
          "metadata": {},
          "execution_count": 3
        }
      ]
    },
    {
      "cell_type": "markdown",
      "source": [
        "**Visualisasi dan Analisis Data**\n",
        "\n",
        "Coba kita tampilkan jumlah data per label"
      ],
      "metadata": {
        "id": "ZEcj790JwmgA"
      }
    },
    {
      "cell_type": "code",
      "source": [
        "df['Y'].value_counts()"
      ],
      "metadata": {
        "colab": {
          "base_uri": "https://localhost:8080/"
        },
        "id": "uA0Yf9aRwpOV",
        "outputId": "77b3dc51-36e7-48df-8164-759055561f6b"
      },
      "execution_count": 5,
      "outputs": [
        {
          "output_type": "execute_result",
          "data": {
            "text/plain": [
              "79000      2\n",
              "66100      2\n",
              "80250      1\n",
              "81000      1\n",
              "75100      1\n",
              "70000      1\n",
              "68000      1\n",
              "66500      1\n",
              "215850     1\n",
              "69700      1\n",
              "182100     1\n",
              "105500     1\n",
              "60710      1\n",
              "72000      1\n",
              "61000      1\n",
              "120000     1\n",
              "490000     1\n",
              "427260     1\n",
              "510000     1\n",
              "86000      1\n",
              "324000     1\n",
              "106000     1\n",
              "70108      1\n",
              "680400     1\n",
              "111000     1\n",
              "55500      1\n",
              "72500      1\n",
              "300000     1\n",
              "405000     1\n",
              "229500     1\n",
              "1600000    1\n",
              "780000     1\n",
              "423000     1\n",
              "210000     1\n",
              "125000     1\n",
              "335000     1\n",
              "Name: Y, dtype: int64"
            ]
          },
          "metadata": {},
          "execution_count": 5
        }
      ]
    },
    {
      "cell_type": "markdown",
      "source": [
        "\n",
        "Kita juga dapat menampilkan histogram dari data, misalnya kolom Y, X1, X2, X3 dan X4:"
      ],
      "metadata": {
        "id": "-HpudRe0wu_N"
      }
    },
    {
      "cell_type": "code",
      "source": [
        "df.hist(column='Y', bins=50)\n",
        "df.hist(column='X1', bins=50)\n",
        "df.hist(column='X2', bins=50)\n",
        "df.hist(column='X3', bins=50)\n",
        "df.hist(column='X4', bins=50)"
      ],
      "metadata": {
        "colab": {
          "base_uri": "https://localhost:8080/",
          "height": 1000
        },
        "id": "GVxCIIoQwyQz",
        "outputId": "776a903e-b177-4f98-cc39-433ea126deac"
      },
      "execution_count": 8,
      "outputs": [
        {
          "output_type": "execute_result",
          "data": {
            "text/plain": [
              "array([[<matplotlib.axes._subplots.AxesSubplot object at 0x7f648ba8fdd0>]],\n",
              "      dtype=object)"
            ]
          },
          "metadata": {},
          "execution_count": 8
        },
        {
          "output_type": "display_data",
          "data": {
            "text/plain": [
              "<Figure size 432x288 with 1 Axes>"
            ],
            "image/png": "[encoded data removed]"
          },
          "metadata": {
            "needs_background": "light"
          }
        },
        {
          "output_type": "display_data",
          "data": {
            "text/plain": [
              "<Figure size 432x288 with 1 Axes>"
            ],
            "image/png": "[encoded data removed]"
          },
          "metadata": {
            "needs_background": "light"
          }
        },
        {
          "output_type": "display_data",
          "data": {
            "text/plain": [
              "<Figure size 432x288 with 1 Axes>"
            ],
            "image/png": "[encoded data removed]"
          },
          "metadata": {
            "needs_background": "light"
          }
        },
        {
          "output_type": "display_data",
          "data": {
            "text/plain": [
              "<Figure size 432x288 with 1 Axes>"
            ],
            "image/png": "[encoded data removed]"
          },
          "metadata": {
            "needs_background": "light"
          }
        },
        {
          "output_type": "display_data",
          "data": {
            "text/plain": [
              "<Figure size 432x288 with 1 Axes>"
            ],
            "image/png": "[encoded data removed]"
          },
          "metadata": {
            "needs_background": "light"
          }
        }
      ]
    },
    {
      "cell_type": "markdown",
      "source": [
        "**Feature set**\n",
        "\n",
        "Selanjutnya, kita format dataset, yaitu bentuk feature sets (kumpulan atribut), kita bentuk variabel X:"
      ],
      "metadata": {
        "id": "P7G9zaOyw5Cu"
      }
    },
    {
      "cell_type": "code",
      "source": [
        "df.columns"
      ],
      "metadata": {
        "colab": {
          "base_uri": "https://localhost:8080/"
        },
        "id": "Og7gmU4OxEvW",
        "outputId": "8173c0c2-441d-44d7-e665-16e903365aee"
      },
      "execution_count": 9,
      "outputs": [
        {
          "output_type": "execute_result",
          "data": {
            "text/plain": [
              "Index(['N', 'Y', 'X1', 'X2', 'X3', 'X4'], dtype='object')"
            ]
          },
          "metadata": {},
          "execution_count": 9
        }
      ]
    },
    {
      "cell_type": "markdown",
      "source": [
        "Untuk menggunakan library scikit-learn library, kita harus convert format data frame-nya Panda, ke array Numpy :"
      ],
      "metadata": {
        "id": "0IrOK--5xIbL"
      }
    },
    {
      "cell_type": "code",
      "source": [
        "X = df[['Y','X1','X2','X3','X4']].values  #.astype(float)\n",
        "X[0:5]"
      ],
      "metadata": {
        "colab": {
          "base_uri": "https://localhost:8080/"
        },
        "id": "-dxkRplIxLGQ",
        "outputId": "3531be69-0419-4f51-cb43-0925fcc26c1d"
      },
      "execution_count": 10,
      "outputs": [
        {
          "output_type": "execute_result",
          "data": {
            "text/plain": [
              "array([[  80250, 1650000,      10,       1,   80250],\n",
              "       [  86000, 1600000,       8,       1,   86000],\n",
              "       [ 106000, 2050000,       8,       1,  106000],\n",
              "       [  70108, 1200000,       7,       1,   70108],\n",
              "       [ 680400, 1650000,       4,       2,  170100]])"
            ]
          },
          "metadata": {},
          "execution_count": 10
        }
      ]
    },
    {
      "cell_type": "markdown",
      "source": [
        "Definisikan Labelnya juga (Y):"
      ],
      "metadata": {
        "id": "rD94F8fDxNDJ"
      }
    },
    {
      "cell_type": "code",
      "source": [
        "y = df['Y'].values\n",
        "y[0:5]"
      ],
      "metadata": {
        "colab": {
          "base_uri": "https://localhost:8080/"
        },
        "id": "gZIP9pBKxQQf",
        "outputId": "d910cdb2-da39-4077-9a42-729d1be1fa41"
      },
      "execution_count": 11,
      "outputs": [
        {
          "output_type": "execute_result",
          "data": {
            "text/plain": [
              "array([ 80250,  86000, 106000,  70108, 680400])"
            ]
          },
          "metadata": {},
          "execution_count": 11
        }
      ]
    },
    {
      "cell_type": "markdown",
      "source": [
        "**Normalisasi Data**\n",
        "\n",
        "K-NN merupakan metode yang didasarkan pada tingkat kedekatan antar-atribut. Oleh karena itu, sangat disarankan untuk melakukan normalisasi data agar perhitungan jarak menjadi lebih valid."
      ],
      "metadata": {
        "id": "sIrHNzSpxaQf"
      }
    },
    {
      "cell_type": "code",
      "source": [
        "X = preprocessing.StandardScaler().fit(X).transform(X.astype(float))\n",
        "X[0:5]"
      ],
      "metadata": {
        "colab": {
          "base_uri": "https://localhost:8080/"
        },
        "id": "XMHNqhIoxd6G",
        "outputId": "3ca647a0-15d4-45c7-d99f-c41088288988"
      },
      "execution_count": 12,
      "outputs": [
        {
          "output_type": "execute_result",
          "data": {
            "text/plain": [
              "array([[-0.53703758,  1.02189081,  1.74878599, -1.2070197 , -0.14293223],\n",
              "       [-0.51717819,  0.90398988,  0.48299803, -1.2070197 ,  0.03602176],\n",
              "       [-0.44810207,  1.96509826,  0.48299803, -1.2070197 ,  0.65847042],\n",
              "       [-0.57206608, -0.03921757, -0.14989594, -1.2070197 , -0.45857595],\n",
              "       [ 1.53576414,  1.02189081, -2.04857787, -0.32496684,  2.65341839]])"
            ]
          },
          "metadata": {},
          "execution_count": 12
        }
      ]
    },
    {
      "cell_type": "markdown",
      "source": [
        "**Pembagian Data Training dan Testing**\n",
        "\n",
        "Untuk menghasilkan model yang baik, perlu dilakukan pengujian yang baik. Aturan umum yang berlaku adalah data training dan testing harus dipisahkan terlebih dahulu. Dengan kata lain tidak boleh menggunakan data yang sama untuk training dan testing.\n",
        "\n",
        "Untuk mempermudah, komposisi yang digunakan sebesar 80% data training dan 20% data testing."
      ],
      "metadata": {
        "id": "JEHP7Yq7xg7J"
      }
    },
    {
      "cell_type": "code",
      "source": [
        "from sklearn.model_selection import train_test_split\n",
        "X_train, X_test, y_train, y_test = train_test_split( X, y, test_size=0.1, random_state=10)\n",
        "print ('Train set:', X_train.shape,  y_train.shape)\n",
        "print ('Test set:', X_test.shape,  y_test.shape)"
      ],
      "metadata": {
        "colab": {
          "base_uri": "https://localhost:8080/"
        },
        "id": "5Bu57W3hxwYi",
        "outputId": "0b261978-7ed1-46c5-e221-797e1654c50b"
      },
      "execution_count": 28,
      "outputs": [
        {
          "output_type": "stream",
          "name": "stdout",
          "text": [
            "Train set: (34, 5) (34,)\n",
            "Test set: (4, 5) (4,)\n"
          ]
        }
      ]
    },
    {
      "cell_type": "markdown",
      "source": [
        "Klasifikasi\n",
        "K nearest neighbor (K-NN)\n",
        "Import library \n",
        "Import classifier K-Nearest Neighbors"
      ],
      "metadata": {
        "id": "5VIWQouHx3iN"
      }
    },
    {
      "cell_type": "code",
      "source": [
        "from sklearn.neighbors import KNeighborsClassifier"
      ],
      "metadata": {
        "id": "LMU-ShOkyAN4"
      },
      "execution_count": 29,
      "outputs": []
    },
    {
      "cell_type": "markdown",
      "source": [
        "**Training**\n",
        "\n",
        "Pertama, tentukan nilai k. Kita akan coba dengan nikai k=5:"
      ],
      "metadata": {
        "id": "70nqR-WSyGUg"
      }
    },
    {
      "cell_type": "code",
      "source": [
        "k = 5\n",
        "#Train Model and Predict  \n",
        "knn = KNeighborsClassifier(n_neighbors = k).fit(X_train,y_train)\n",
        "knn"
      ],
      "metadata": {
        "colab": {
          "base_uri": "https://localhost:8080/"
        },
        "id": "vbgdaClWyR4C",
        "outputId": "f55d1a0b-b16d-4232-f0c5-26ad92f7cfc0"
      },
      "execution_count": 35,
      "outputs": [
        {
          "output_type": "execute_result",
          "data": {
            "text/plain": [
              "KNeighborsClassifier()"
            ]
          },
          "metadata": {},
          "execution_count": 35
        }
      ]
    },
    {
      "cell_type": "markdown",
      "source": [
        "**Predicting**\n",
        "\n",
        "Kita sudah dapat menggunakan model yang terbentuk untuk memprediksikan data"
      ],
      "metadata": {
        "id": "tetfbctnyWKa"
      }
    },
    {
      "cell_type": "code",
      "source": [
        "yhat = knn.predict(X_test)\n",
        "yhat[0:5]"
      ],
      "metadata": {
        "colab": {
          "base_uri": "https://localhost:8080/"
        },
        "id": "Vu3SNbCYyeWa",
        "outputId": "8a968794-5a78-463c-8a62-870b1d3b5d96"
      },
      "execution_count": 36,
      "outputs": [
        {
          "output_type": "execute_result",
          "data": {
            "text/plain": [
              "array([ 66100,  55500,  72500, 210000])"
            ]
          },
          "metadata": {},
          "execution_count": 36
        }
      ]
    },
    {
      "cell_type": "markdown",
      "source": [
        "**Perhitungan Akurasi**\n",
        "\n",
        "Pada klasifikasi multi-kelas, nilai akurasi klasifikasi secara sederhana dapat dihitung dengan memperbandingkan kelas hasil prediksi algoritma dengan kelas sebenarnya / actual class."
      ],
      "metadata": {
        "id": "r_wyOSwjygYd"
      }
    },
    {
      "cell_type": "code",
      "source": [
        "from sklearn import metrics\n",
        "print(\"Train set Accuracy: \", metrics.accuracy_score(y_train, knn.predict(X_train)))\n",
        "print(\"Test set Accuracy: \", metrics.accuracy_score(y_test, yhat))"
      ],
      "metadata": {
        "colab": {
          "base_uri": "https://localhost:8080/"
        },
        "id": "2TVRqgArym9i",
        "outputId": "fe87d722-8184-47ae-e168-d7b19d6583d8"
      },
      "execution_count": 37,
      "outputs": [
        {
          "output_type": "stream",
          "name": "stdout",
          "text": [
            "Train set Accuracy:  0.08823529411764706\n",
            "Test set Accuracy:  0.0\n"
          ]
        }
      ]
    },
    {
      "cell_type": "markdown",
      "source": [
        "**Mencari Nilai K Terbaik**\n",
        "Performa dari model KNN sangat bergantung dengan nilai K. Lalu bagaimana memilih nilai K yang terbaik? Jawabnya, kita harus lakukan pengujian.\n",
        "\n",
        "Kode berikut ini bertujuan untuk melakukan pengujian nilai k dari k=1 s.d k=10."
      ],
      "metadata": {
        "id": "d1xevVnyys6p"
      }
    },
    {
      "cell_type": "code",
      "source": [
        "Ks = 10\n",
        "mean_acc = np.zeros((Ks-1))\n",
        "std_acc = np.zeros((Ks-1))\n",
        "ConfustionMx = [];\n",
        "for n in range(1,Ks):\n",
        "    \n",
        "    #Train Model and Predict  \n",
        "    neigh = KNeighborsClassifier(n_neighbors = n).fit(X_train,y_train)\n",
        "    yhat=neigh.predict(X_test)\n",
        "    mean_acc[n-1] = metrics.accuracy_score(y_test, yhat)\n",
        "\n",
        "    \n",
        "    std_acc[n-1]=np.std(yhat==y_test)/np.sqrt(yhat.shape[0])\n",
        "\n",
        "mean_acc"
      ],
      "metadata": {
        "colab": {
          "base_uri": "https://localhost:8080/"
        },
        "id": "-2oI-zjJyyxZ",
        "outputId": "69d01bca-ff89-4385-dc34-14ec1df8aae0"
      },
      "execution_count": 38,
      "outputs": [
        {
          "output_type": "execute_result",
          "data": {
            "text/plain": [
              "array([0., 0., 0., 0., 0., 0., 0., 0., 0.])"
            ]
          },
          "metadata": {},
          "execution_count": 38
        }
      ]
    },
    {
      "cell_type": "markdown",
      "source": [
        "Lalu kita juga bisa menampilkan grafik / plot-nya"
      ],
      "metadata": {
        "id": "PvA8DubDyz97"
      }
    },
    {
      "cell_type": "code",
      "source": [
        "plt.plot(range(1,Ks),mean_acc,'g')\n",
        "plt.fill_between(range(1,Ks),mean_acc - 1 * std_acc,mean_acc + 1 * std_acc, alpha=0.10)\n",
        "plt.legend(('Accuracy ', '+/- 3xstd'))\n",
        "plt.ylabel('Accuracy ')\n",
        "plt.xlabel('Number of Nabors (K)')\n",
        "plt.tight_layout()\n",
        "plt.show()"
      ],
      "metadata": {
        "colab": {
          "base_uri": "https://localhost:8080/",
          "height": 297
        },
        "id": "5VpbTe1Vytn_",
        "outputId": "f96b350d-eac2-4b99-de4c-214148fb4782"
      },
      "execution_count": 39,
      "outputs": [
        {
          "output_type": "display_data",
          "data": {
            "text/plain": [
              "<Figure size 432x288 with 1 Axes>"
            ],
            "image/png": "[encoded data removed]"
          },
          "metadata": {
            "needs_background": "light"
          }
        }
      ]
    }
  ]
}